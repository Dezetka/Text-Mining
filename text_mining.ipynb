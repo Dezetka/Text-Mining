{
 "cells": [
  {
   "cell_type": "markdown",
   "metadata": {},
   "source": [
    "# Import packages"
   ]
  },
  {
   "cell_type": "code",
   "execution_count": 79,
   "metadata": {},
   "outputs": [],
   "source": [
    "import json\n",
    "import string\n",
    "import pandas as pd\n",
    "from nltk.stem import PorterStemmer\n",
    "from nltk.tokenize import word_tokenize\n",
    "from nltk.corpus import PlaintextCorpusReader, stopwords\n",
    "from  sklearn.feature_extraction.text import CountVectorizer, TfidfVectorizer\n",
    "\n"
   ]
  },
  {
   "cell_type": "markdown",
   "metadata": {},
   "source": [
    "# Create documents corpus"
   ]
  },
  {
   "cell_type": "code",
   "execution_count": null,
   "metadata": {},
   "outputs": [],
   "source": [
    "corpus_dir = \"./Literature-original\"\n",
    "corpus = PlaintextCorpusReader(corpus_dir, r'.*.txt')\n",
    "\n",
    "files_names = corpus.fileids()\n",
    "files_names"
   ]
  },
  {
   "cell_type": "markdown",
   "metadata": {},
   "source": [
    "# Corpus documents prepocessing\n"
   ]
  },
  {
   "cell_type": "code",
   "execution_count": null,
   "metadata": {},
   "outputs": [],
   "source": [
    "documents = {}\n",
    "for file_name in files_names:\n",
    "    documents[file_name] = corpus.raw(file_name)\n",
    "print(json.dumps(documents,indent=4,ensure_ascii=False))"
   ]
  },
  {
   "cell_type": "code",
   "execution_count": null,
   "metadata": {},
   "outputs": [],
   "source": [
    "lengths = {}\n",
    "for file_name in documents:\n",
    "    lengths[file_name] = {\n",
    "        \"pre\": len(word_tokenize(documents[file_name]))\n",
    "    }\n",
    "print(json.dumps(lengths,indent=4,ensure_ascii=False))"
   ]
  },
  {
   "cell_type": "code",
   "execution_count": 73,
   "metadata": {},
   "outputs": [],
   "source": [
    "ps = PorterStemmer()"
   ]
  },
  {
   "cell_type": "code",
   "execution_count": null,
   "metadata": {},
   "outputs": [],
   "source": [
    "for file_name in documents:\n",
    "    documents[file_name] = documents[file_name].lower()\n",
    "    documents[file_name] = \"\".join([char for char in documents[file_name] if char not in string.punctuation])\n",
    "    documents[file_name] = \"\".join([char for char in documents[file_name] if not char.isdigit()])\n",
    "    documents[file_name] = \" \".join([ps.stem(word) for word in word_tokenize(documents[file_name])])\n",
    "    documents[file_name] = \" \".join([word for word in word_tokenize(documents[file_name]) if word not in list(stopwords.words('english'))])\n",
    "    print(json.dumps(documents, indent=4, ensure_ascii=False))"
   ]
  },
  {
   "cell_type": "code",
   "execution_count": null,
   "metadata": {},
   "outputs": [],
   "source": [
    "for file_name in documents:\n",
    "    lengths[file_name]['post'] = len(word_tokenize(documents[file_name]))\n",
    "print(json.dumps(lengths,indent=4, ensure_ascii=False))"
   ]
  },
  {
   "cell_type": "code",
   "execution_count": null,
   "metadata": {},
   "outputs": [],
   "source": [
    "lengths = pd.DataFrame.from_dict(lengths,orient ='index')"
   ]
  },
  {
   "cell_type": "code",
   "execution_count": 77,
   "metadata": {},
   "outputs": [],
   "source": [
    "lengths['diff'] = lengths['pre'] - lengths['post']\n",
    "lengths['pct'] = lengths['diff']/ lengths['pre']"
   ]
  },
  {
   "cell_type": "code",
   "execution_count": null,
   "metadata": {},
   "outputs": [],
   "source": [
    "lengths"
   ]
  },
  {
   "cell_type": "markdown",
   "metadata": {},
   "source": [
    "# Create Frequency Matrix\n"
   ]
  },
  {
   "cell_type": "code",
   "execution_count": 83,
   "metadata": {},
   "outputs": [
    {
     "data": {
      "text/html": [
       "<div>\n",
       "<style scoped>\n",
       "    .dataframe tbody tr th:only-of-type {\n",
       "        vertical-align: middle;\n",
       "    }\n",
       "\n",
       "    .dataframe tbody tr th {\n",
       "        vertical-align: top;\n",
       "    }\n",
       "\n",
       "    .dataframe thead th {\n",
       "        text-align: right;\n",
       "    }\n",
       "</style>\n",
       "<table border=\"1\" class=\"dataframe\">\n",
       "  <thead>\n",
       "    <tr style=\"text-align: right;\">\n",
       "      <th></th>\n",
       "      <th>content</th>\n",
       "    </tr>\n",
       "  </thead>\n",
       "  <tbody>\n",
       "    <tr>\n",
       "      <th>Chronicles of Narnia. Prince Caspian.txt</th>\n",
       "      <td>peter susan edmund luci pevensi magic whisk aw...</td>\n",
       "    </tr>\n",
       "    <tr>\n",
       "      <th>Chronicles of Narnia. The Horse and His Boy.txt</th>\n",
       "      <td>boy name shasta ha live life rememb southern p...</td>\n",
       "    </tr>\n",
       "    <tr>\n",
       "      <th>Chronicles of Narnia. The Last Battle.txt</th>\n",
       "      <td>western region narnia clever greedi ape shift ...</td>\n",
       "    </tr>\n",
       "    <tr>\n",
       "      <th>Chronicles of Narnia. The Lion, the Witch and the Wardrobe.txt</th>\n",
       "      <td>peter susan edmund luci pevensi evacu london e...</td>\n",
       "    </tr>\n",
       "    <tr>\n",
       "      <th>Chronicles of Narnia. The Magicians Nephew.txt</th>\n",
       "      <td>stori begin london dure summer two children di...</td>\n",
       "    </tr>\n",
       "    <tr>\n",
       "      <th>Chronicles of Narnia. The Silver Chair.txt</th>\n",
       "      <td>eustac scrubb reform charact follow event voya...</td>\n",
       "    </tr>\n",
       "    <tr>\n",
       "      <th>Chronicles of Narnia. The Voyage of the Dawn Treader.txt</th>\n",
       "      <td>two youngest pevensi children luci edmund stay...</td>\n",
       "    </tr>\n",
       "    <tr>\n",
       "      <th>Fantastic Beasts and Where to Find Them.txt</th>\n",
       "      <td>british wizard magizoologist newton newt scama...</td>\n",
       "    </tr>\n",
       "    <tr>\n",
       "      <th>Fantastic Beasts. The Crimes of Grindelwald.txt</th>\n",
       "      <td>magic congress unit state america macusa trans...</td>\n",
       "    </tr>\n",
       "    <tr>\n",
       "      <th>Fantastic Beasts. The Secrets of Dumbledore.txt</th>\n",
       "      <td>albu dumbledor gellert grindelwald briefli mee...</td>\n",
       "    </tr>\n",
       "    <tr>\n",
       "      <th>Harry Potter and the Chamber of Secrets.txt</th>\n",
       "      <td>spend summer dursley harri potter meet dobbi h...</td>\n",
       "    </tr>\n",
       "    <tr>\n",
       "      <th>Harry Potter and the Deathly Hallows Part 1.txt</th>\n",
       "      <td>malfoy manor severu snape meet lord voldemort ...</td>\n",
       "    </tr>\n",
       "    <tr>\n",
       "      <th>Harry Potter and the Deathly Hallows Part 2.txt</th>\n",
       "      <td>buri dobbi harri potter ask goblin griphook he...</td>\n",
       "    </tr>\n",
       "    <tr>\n",
       "      <th>Harry Potter and the Goblet of Fire.txt</th>\n",
       "      <td>harri potter ha nightmar muggl caretak murder ...</td>\n",
       "    </tr>\n",
       "    <tr>\n",
       "      <th>Harry Potter and the Half-Blood Prince.txt</th>\n",
       "      <td>lord voldemort tighten hi grip wizard muggl wo...</td>\n",
       "    </tr>\n",
       "    <tr>\n",
       "      <th>Harry Potter and the Order of the Phoenix.txt</th>\n",
       "      <td>stay dursley harri potter dudley attack dement...</td>\n",
       "    </tr>\n",
       "    <tr>\n",
       "      <th>Harry Potter and the Philosophers Stone.txt</th>\n",
       "      <td>late one night albu dumbledor minerva mcgonaga...</td>\n",
       "    </tr>\n",
       "    <tr>\n",
       "      <th>Harry Potter and the Prisoner of Azkaban.txt</th>\n",
       "      <td>hi second year hogwart harri potter spend anot...</td>\n",
       "    </tr>\n",
       "    <tr>\n",
       "      <th>Twilight Saga. Breaking Dawn Part 1.txt</th>\n",
       "      <td>month event previou film day bella swan edward...</td>\n",
       "    </tr>\n",
       "    <tr>\n",
       "      <th>Twilight Saga. Breaking Dawn Part 2.txt</th>\n",
       "      <td>bella ha given birth awaken humantovampir tran...</td>\n",
       "    </tr>\n",
       "    <tr>\n",
       "      <th>Twilight Saga. Eclipse.txt</th>\n",
       "      <td>seattl far fork victoria attack riley bier beg...</td>\n",
       "    </tr>\n",
       "    <tr>\n",
       "      <th>Twilight Saga. New Moon.txt</th>\n",
       "      <td>eighteenth birthday bella swan awaken dream ol...</td>\n",
       "    </tr>\n",
       "    <tr>\n",
       "      <th>Twilight Saga. Twilight.txt</th>\n",
       "      <td>seventeenyearold bella swan leav phoenix arizo...</td>\n",
       "    </tr>\n",
       "  </tbody>\n",
       "</table>\n",
       "</div>"
      ],
      "text/plain": [
       "                                                                                              content\n",
       "Chronicles of Narnia. Prince Caspian.txt            peter susan edmund luci pevensi magic whisk aw...\n",
       "Chronicles of Narnia. The Horse and His Boy.txt     boy name shasta ha live life rememb southern p...\n",
       "Chronicles of Narnia. The Last Battle.txt           western region narnia clever greedi ape shift ...\n",
       "Chronicles of Narnia. The Lion, the Witch and t...  peter susan edmund luci pevensi evacu london e...\n",
       "Chronicles of Narnia. The Magicians Nephew.txt      stori begin london dure summer two children di...\n",
       "Chronicles of Narnia. The Silver Chair.txt          eustac scrubb reform charact follow event voya...\n",
       "Chronicles of Narnia. The Voyage of the Dawn Tr...  two youngest pevensi children luci edmund stay...\n",
       "Fantastic Beasts and Where to Find Them.txt         british wizard magizoologist newton newt scama...\n",
       "Fantastic Beasts. The Crimes of Grindelwald.txt     magic congress unit state america macusa trans...\n",
       "Fantastic Beasts. The Secrets of Dumbledore.txt     albu dumbledor gellert grindelwald briefli mee...\n",
       "Harry Potter and the Chamber of Secrets.txt         spend summer dursley harri potter meet dobbi h...\n",
       "Harry Potter and the Deathly Hallows Part 1.txt     malfoy manor severu snape meet lord voldemort ...\n",
       "Harry Potter and the Deathly Hallows Part 2.txt     buri dobbi harri potter ask goblin griphook he...\n",
       "Harry Potter and the Goblet of Fire.txt             harri potter ha nightmar muggl caretak murder ...\n",
       "Harry Potter and the Half-Blood Prince.txt          lord voldemort tighten hi grip wizard muggl wo...\n",
       "Harry Potter and the Order of the Phoenix.txt       stay dursley harri potter dudley attack dement...\n",
       "Harry Potter and the Philosophers Stone.txt         late one night albu dumbledor minerva mcgonaga...\n",
       "Harry Potter and the Prisoner of Azkaban.txt        hi second year hogwart harri potter spend anot...\n",
       "Twilight Saga. Breaking Dawn Part 1.txt             month event previou film day bella swan edward...\n",
       "Twilight Saga. Breaking Dawn Part 2.txt             bella ha given birth awaken humantovampir tran...\n",
       "Twilight Saga. Eclipse.txt                          seattl far fork victoria attack riley bier beg...\n",
       "Twilight Saga. New Moon.txt                         eighteenth birthday bella swan awaken dream ol...\n",
       "Twilight Saga. Twilight.txt                         seventeenyearold bella swan leav phoenix arizo..."
      ]
     },
     "execution_count": 83,
     "metadata": {},
     "output_type": "execute_result"
    }
   ],
   "source": [
    "docs = pd.DataFrame.from_dict(documents, orient =\"index\")\n",
    "docs.columns = ['content']\n",
    "docs\n"
   ]
  },
  {
   "cell_type": "code",
   "execution_count": 84,
   "metadata": {},
   "outputs": [
    {
     "data": {
      "text/plain": [
       "<Compressed Sparse Row sparse matrix of dtype 'int64'\n",
       "\twith 6019 stored elements and shape (23, 2503)>"
      ]
     },
     "execution_count": 84,
     "metadata": {},
     "output_type": "execute_result"
    }
   ],
   "source": [
    "cv = CountVectorizer()\n",
    "matrix_tf = cv.fit_transform(docs['content'])\n",
    "matrix_tf"
   ]
  }
 ],
 "metadata": {
  "kernelspec": {
   "display_name": ".venv",
   "language": "python",
   "name": "python3"
  },
  "language_info": {
   "codemirror_mode": {
    "name": "ipython",
    "version": 3
   },
   "file_extension": ".py",
   "mimetype": "text/x-python",
   "name": "python",
   "nbconvert_exporter": "python",
   "pygments_lexer": "ipython3",
   "version": "3.11.4"
  }
 },
 "nbformat": 4,
 "nbformat_minor": 2
}
